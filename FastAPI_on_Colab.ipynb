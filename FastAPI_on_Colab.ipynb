{
  "nbformat": 4,
  "nbformat_minor": 0,
  "metadata": {
    "colab": {
      "name": "FastAPI on Colab.ipynb",
      "provenance": [],
      "collapsed_sections": []
    },
    "kernelspec": {
      "name": "python3",
      "display_name": "Python 3"
    }
  },
  "cells": [
    {
      "cell_type": "markdown",
      "metadata": {
        "id": "VpYmv9Xis-LN"
      },
      "source": [
        "### **FastAPI on Colab**"
      ]
    },
    {
      "cell_type": "code",
      "metadata": {
        "id": "nIcUFpUnlj59"
      },
      "source": [
        "#!pip install fastapi uvicorn\r\n",
        "#!pip install fastapi nest-asyncio pyngrok uvicorn\r\n",
        "\r\n",
        "# 1. Library imports\r\n",
        "import uvicorn ##ASGI\r\n",
        "from fastapi import FastAPI\r\n",
        "#from fastapi.middleware.cors import CORSMiddleware"
      ],
      "execution_count": 2,
      "outputs": []
    },
    {
      "cell_type": "code",
      "metadata": {
        "colab": {
          "base_uri": "https://localhost:8080/",
          "height": 35
        },
        "id": "e9qO-0YPlmPc",
        "outputId": "e49eea1b-6689-4a97-f30c-d472256438b2"
      },
      "source": [
        "# 2. Create the app object\r\n",
        "app = FastAPI()"
      ],
      "execution_count": 3,
      "outputs": [
        {
          "output_type": "execute_result",
          "data": {
            "application/vnd.google.colaboratory.intrinsic+json": {
              "type": "string"
            },
            "text/plain": [
              "\"app.add_middleware(\\n    CORSMiddleware,\\n    allow_origins=['*'],\\n    allow_credentials=True,\\n    allow_methods=['*'],\\n    allow_headers=['*'],\\n)\""
            ]
          },
          "metadata": {
            "tags": []
          },
          "execution_count": 3
        }
      ]
    },
    {
      "cell_type": "code",
      "metadata": {
        "id": "JGNXWsEYlqM6"
      },
      "source": [
        "# 3. Index route, opens automatically on http://127.0.0.1:8000\r\n",
        "@app.get('/')\r\n",
        "def index():\r\n",
        "    return {'message': 'Hello, World'}"
      ],
      "execution_count": 4,
      "outputs": []
    },
    {
      "cell_type": "code",
      "metadata": {
        "id": "t15Ku87altrG"
      },
      "source": [
        "# 4. Route with a single parameter, returns the parameter within a message\r\n",
        "#    Located at: http://127.0.0.1:8000/AnyNameHere\r\n",
        "@app.get('/Welcome')\r\n",
        "def get_name(name: str):\r\n",
        "    return {'Welcome to Youtube Channel': f'{name}'}"
      ],
      "execution_count": 5,
      "outputs": []
    },
    {
      "cell_type": "code",
      "metadata": {
        "colab": {
          "base_uri": "https://localhost:8080/"
        },
        "id": "Cw_VSxLDmR52",
        "outputId": "f4a908ee-6016-431f-8b4a-59afc641d9da"
      },
      "source": [
        "# 5. Run the API with uvicorn\r\n",
        "#    Will run on http://127.0.0.1:8000\r\n",
        "\r\n",
        "import nest_asyncio\r\n",
        "from pyngrok import ngrok\r\n",
        "import uvicorn\r\n",
        "\r\n",
        "ngrok_tunnel = ngrok.connect(8000)\r\n",
        "print('Public URL:', ngrok_tunnel.public_url)\r\n",
        "nest_asyncio.apply()\r\n",
        "uvicorn.run(app, port=8000)"
      ],
      "execution_count": 6,
      "outputs": [
        {
          "output_type": "stream",
          "text": [
            "INFO:     Started server process [376]\n",
            "INFO:     Waiting for application startup.\n",
            "INFO:     Application startup complete.\n",
            "INFO:     Uvicorn running on http://127.0.0.1:8000 (Press CTRL+C to quit)\n"
          ],
          "name": "stderr"
        },
        {
          "output_type": "stream",
          "text": [
            "Public URL: http://af823aeaa6db.ngrok.io\n"
          ],
          "name": "stdout"
        }
      ]
    },
    {
      "cell_type": "markdown",
      "metadata": {
        "id": "vXe2rUsettJa"
      },
      "source": [
        "swagger will open at the link:\r\n",
        "http://af823aeaa6db.ngrok.io/docs"
      ]
    }
  ]
}