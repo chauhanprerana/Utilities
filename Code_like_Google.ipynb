{
  "nbformat": 4,
  "nbformat_minor": 0,
  "metadata": {
    "colab": {
      "name": "Code like Google.ipynb",
      "provenance": [],
      "collapsed_sections": []
    },
    "kernelspec": {
      "name": "python3",
      "display_name": "Python 3"
    }
  },
  "cells": [
    {
      "cell_type": "markdown",
      "metadata": {
        "id": "MzxQmwNHYCUq"
      },
      "source": [
        "https://teachablemachine.withgoogle.com/train\r\n",
        "\r\n",
        "Train a model for image audio and pose.\r\n",
        "Export the H5 file."
      ]
    },
    {
      "cell_type": "markdown",
      "metadata": {
        "id": "S7qpOtCwYCP4"
      },
      "source": [
        "https://www.electronjs.org/apps/netron\r\n",
        "\r\n",
        "Download netron to view this H5 file\r\n",
        "\r\n",
        "The details of the parameters and the filters can be exported in .npy file"
      ]
    },
    {
      "cell_type": "markdown",
      "metadata": {
        "id": "pQCVDSSFYCCA"
      },
      "source": [
        "https://www.pyimagesearch.com/2017/03/20/imagenet-vggnet-resnet-inception-xception-keras/\r\n",
        "\r\n",
        "The different models used can be compared from the site to see which was implemented in teachable machine"
      ]
    }
  ]
}